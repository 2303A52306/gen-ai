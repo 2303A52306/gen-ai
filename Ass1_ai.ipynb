{
  "nbformat": 4,
  "nbformat_minor": 0,
  "metadata": {
    "colab": {
      "provenance": [],
      "authorship_tag": "ABX9TyOh76/Y7kxj6Mr+28764kzp",
      "include_colab_link": true
    },
    "kernelspec": {
      "name": "python3",
      "display_name": "Python 3"
    },
    "language_info": {
      "name": "python"
    }
  },
  "cells": [
    {
      "cell_type": "markdown",
      "metadata": {
        "id": "view-in-github",
        "colab_type": "text"
      },
      "source": [
        "<a href=\"https://colab.research.google.com/github/2303A52306/gen-ai/blob/main/Ass1_ai.ipynb\" target=\"_parent\"><img src=\"https://colab.research.google.com/assets/colab-badge.svg\" alt=\"Open In Colab\"/></a>"
      ]
    },
    {
      "cell_type": "code",
      "source": [
        "import numpy as np\n",
        "from sklearn.metrics import mean_absolute_error, mean_squared_error"
      ],
      "metadata": {
        "id": "zGoE9zLybZFK"
      },
      "execution_count": 4,
      "outputs": []
    },
    {
      "cell_type": "code",
      "source": [
        "y_actual = np.array([20, 30, 40, 50, 60])\n",
        "y_pred = np.array([20.5, 30.3, 40.2, 50.6, 60.7])\n",
        "\n",
        "n = len(y_actual)"
      ],
      "metadata": {
        "id": "yM8q2epUb5HV"
      },
      "execution_count": 5,
      "outputs": []
    },
    {
      "cell_type": "code",
      "source": [
        "mae_manual = np.sum(np.abs(y_actual - y_pred)) / n"
      ],
      "metadata": {
        "id": "JzpM3aeNcD0v"
      },
      "execution_count": 6,
      "outputs": []
    },
    {
      "cell_type": "code",
      "source": [
        "mse_manual = np.sum((y_actual - y_pred)**2) / n"
      ],
      "metadata": {
        "id": "qaLJU2eFcMA4"
      },
      "execution_count": 7,
      "outputs": []
    },
    {
      "cell_type": "code",
      "source": [
        "rmse_manual = np.sqrt(mse_manual)"
      ],
      "metadata": {
        "id": "Vd5wBLH_cUeU"
      },
      "execution_count": 8,
      "outputs": []
    },
    {
      "cell_type": "code",
      "source": [
        "mape_manual = np.sum(np.abs((y_actual - y_pred) / y_actual)) * 100 / n"
      ],
      "metadata": {
        "id": "7Fx6hptqcZ6F"
      },
      "execution_count": 9,
      "outputs": []
    },
    {
      "cell_type": "code",
      "source": [
        "mae_sklearn = mean_absolute_error(y_actual, y_pred)\n",
        "mse_sklearn = mean_squared_error(y_actual, y_pred)\n",
        "rmse_sklearn = np.sqrt(mse_sklearn)"
      ],
      "metadata": {
        "id": "tDlPqQrzcc8N"
      },
      "execution_count": 10,
      "outputs": []
    },
    {
      "cell_type": "code",
      "source": [
        "print(\"Manual Computations:\")\n",
        "print(f\"MAE: {mae_manual}\")\n",
        "print(f\"MSE: {mse_manual}\")\n",
        "print(f\"RMSE: {rmse_manual}\")\n",
        "print(f\"MAPE: {mape_manual}%\")"
      ],
      "metadata": {
        "colab": {
          "base_uri": "https://localhost:8080/"
        },
        "id": "UEDSJ4QUciHk",
        "outputId": "834bb9b4-ce56-4203-f7ba-a7be14864016"
      },
      "execution_count": 11,
      "outputs": [
        {
          "output_type": "stream",
          "name": "stdout",
          "text": [
            "Manual Computations:\n",
            "MAE: 0.4600000000000016\n",
            "MSE: 0.24600000000000147\n",
            "RMSE: 0.49598387070549127\n",
            "MAPE: 1.2733333333333368%\n"
          ]
        }
      ]
    },
    {
      "cell_type": "code",
      "source": [
        "print(\"\\nUsing sklearn:\")\n",
        "print(f\"MAE: {mae_sklearn}\")\n",
        "print(f\"MSE: {mse_sklearn}\")\n",
        "print(f\"RMSE: {rmse_sklearn}\")"
      ],
      "metadata": {
        "colab": {
          "base_uri": "https://localhost:8080/"
        },
        "id": "fKAys6Zocq82",
        "outputId": "06329979-2fb2-4f56-e792-88afcf83d39e"
      },
      "execution_count": 13,
      "outputs": [
        {
          "output_type": "stream",
          "name": "stdout",
          "text": [
            "\n",
            "Using sklearn:\n",
            "MAE: 0.4600000000000016\n",
            "MSE: 0.24600000000000147\n",
            "RMSE: 0.49598387070549127\n"
          ]
        }
      ]
    },
    {
      "cell_type": "code",
      "source": [
        "import numpy as np\n",
        "\n",
        "y_actual = np.array([0, 0, 0, 0, 0, 1, 1, 1, 2, 2])\n",
        "y_pred = np.array([0, 0, 1, 2, 2, 1, 2, 2, 1, 2])\n",
        "\n",
        "def calculate_metrics(y_actual, y_pred):\n",
        "    unique_classes = np.unique(np.concatenate((y_actual, y_pred)))\n",
        "    confusion_matrix = np.zeros((len(unique_classes), len(unique_classes)), dtype=int)\n",
        "\n",
        "    for actual, pred in zip(y_actual, y_pred):\n",
        "        confusion_matrix[actual, pred] += 1\n",
        "\n",
        "    accuracy = np.trace(confusion_matrix) / np.sum(confusion_matrix)\n",
        "    precision = []\n",
        "    recall = []\n",
        "\n",
        "    for i in range(len(unique_classes)):\n",
        "        tp = confusion_matrix[i, i]\n",
        "        fp = np.sum(confusion_matrix[:, i]) - tp\n",
        "        fn = np.sum(confusion_matrix[i, :]) - tp\n",
        "        precision.append(tp / (tp + fp) if (tp + fp) > 0 else 0)\n",
        "        recall.append(tp / (tp + fn) if (tp + fn) > 0 else 0)\n",
        "\n",
        "    return accuracy, np.mean(precision), np.mean(recall), confusion_matrix\n",
        "\n",
        "accuracy, precision, recall, confusion_matrix = calculate_metrics(y_actual, y_pred)\n",
        "\n",
        "print(f\"Accuracy: {accuracy:.2f}\")\n",
        "print(f\"Precision: {precision:.2f}\")\n",
        "print(f\"Recall: {recall:.2f}\")\n",
        "print(\"Confusion Matrix:\")\n",
        "print(confusion_matrix)"
      ],
      "metadata": {
        "colab": {
          "base_uri": "https://localhost:8080/"
        },
        "id": "KvCLCMbGi9sJ",
        "outputId": "2123369e-3c44-4d1c-8e65-eeec04b0f1e0"
      },
      "execution_count": 32,
      "outputs": [
        {
          "output_type": "stream",
          "name": "stdout",
          "text": [
            "Accuracy: 0.40\n",
            "Precision: 0.51\n",
            "Recall: 0.41\n",
            "Confusion Matrix:\n",
            "[[2 1 2]\n",
            " [0 1 2]\n",
            " [0 1 1]]\n"
          ]
        }
      ]
    }
  ]
}