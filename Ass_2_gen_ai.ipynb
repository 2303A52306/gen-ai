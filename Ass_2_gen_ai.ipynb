{
  "nbformat": 4,
  "nbformat_minor": 0,
  "metadata": {
    "colab": {
      "provenance": [],
      "authorship_tag": "ABX9TyMlmHMOJVJC/LTtyRUD9Me7",
      "include_colab_link": true
    },
    "kernelspec": {
      "name": "python3",
      "display_name": "Python 3"
    },
    "language_info": {
      "name": "python"
    }
  },
  "cells": [
    {
      "cell_type": "markdown",
      "metadata": {
        "id": "view-in-github",
        "colab_type": "text"
      },
      "source": [
        "<a href=\"https://colab.research.google.com/github/2303A52306/gen-ai/blob/main/Ass_2_gen_ai.ipynb\" target=\"_parent\"><img src=\"https://colab.research.google.com/assets/colab-badge.svg\" alt=\"Open In Colab\"/></a>"
      ]
    },
    {
      "cell_type": "code",
      "execution_count": 3,
      "metadata": {
        "id": "odo7ltiHMleg"
      },
      "outputs": [],
      "source": [
        "from scipy.optimize import linprog"
      ]
    },
    {
      "cell_type": "code",
      "source": [
        "profit = [-6, -5]\n",
        "lhs_ineq = [\n",
        "    [1, 1],\n",
        "    [3, 2]\n",
        "]"
      ],
      "metadata": {
        "id": "m6VeBCbuTEdx"
      },
      "execution_count": 9,
      "outputs": []
    },
    {
      "cell_type": "code",
      "source": [
        "rhs_ineq = [5, 12]"
      ],
      "metadata": {
        "id": "JB1w2oALUdZS"
      },
      "execution_count": 11,
      "outputs": []
    },
    {
      "cell_type": "code",
      "source": [
        "bounds = [(0, None), (0, None)]  # x >= 0, y >= 0"
      ],
      "metadata": {
        "id": "1upMJ1lZUX9x"
      },
      "execution_count": 12,
      "outputs": []
    },
    {
      "cell_type": "code",
      "source": [
        "result = linprog(c=profit, A_ub=lhs_ineq,\n",
        "b_ub=rhs_ineq, bounds=bounds, method=\"highs\")"
      ],
      "metadata": {
        "id": "t0nVjdcxUoKu"
      },
      "execution_count": 13,
      "outputs": []
    },
    {
      "cell_type": "code",
      "source": [
        "if result.success:\n",
        "    x, y = result.x\n",
        "    print(f\"Optimal number of units of Chocolate A: {x:.0f}\")\n",
        "    print(f\"Optimal number of units of Chocolate B: {y:.0f}\")\n",
        "    print(f\"Maximum Profit: Rs {(-result.fun):.2f}\")\n",
        "else:\n",
        "    print(\"No solution found.\")"
      ],
      "metadata": {
        "colab": {
          "base_uri": "https://localhost:8080/"
        },
        "id": "hDKfWq_gUvph",
        "outputId": "2cc5c5f1-0639-4305-a76c-aa81858f8ccf"
      },
      "execution_count": 15,
      "outputs": [
        {
          "output_type": "stream",
          "name": "stdout",
          "text": [
            "Optimal number of units of Chocolate A: 2\n",
            "Optimal number of units of Chocolate B: 3\n",
            "Maximum Profit: Rs 27.00\n"
          ]
        }
      ]
    },
    {
      "cell_type": "code",
      "source": [
        "from scipy.optimize import linprog\n"
      ],
      "metadata": {
        "id": "wgv6IoZkV5no"
      },
      "execution_count": 16,
      "outputs": []
    },
    {
      "cell_type": "code",
      "source": [
        "c = [-50, -120]\n",
        "A = [\n",
        "    [7000, 2000],\n",
        "    [10, 30],\n",
        "    [1, 1]\n",
        "]\n"
      ],
      "metadata": {
        "id": "YqdJuWhEWLzt"
      },
      "execution_count": 17,
      "outputs": []
    },
    {
      "cell_type": "code",
      "source": [
        "b = [700000, 1200, 110]"
      ],
      "metadata": {
        "id": "zaapq9KQWWJZ"
      },
      "execution_count": 18,
      "outputs": []
    },
    {
      "cell_type": "code",
      "source": [
        "x_bounds = (0, None)  # Wheat >= 0\n",
        "y_bounds = (0, None)  # Barley >= 0"
      ],
      "metadata": {
        "id": "2gjZqFS9WZjd"
      },
      "execution_count": 20,
      "outputs": []
    },
    {
      "cell_type": "code",
      "source": [
        "result = linprog(c, A_ub=A, b_ub=b,\n",
        "bounds=[x_bounds, y_bounds], method='highs')"
      ],
      "metadata": {
        "id": "LYZJcvfLWcnf"
      },
      "execution_count": 22,
      "outputs": []
    },
    {
      "cell_type": "code",
      "source": [
        "if result.success:\n",
        "    wheat, barley = result.x\n",
        "    max_profit = -result.fun\n",
        "    print(f\"Optimal planting: Wheat = {wheat:.2f} hectares, Barley = {barley:.2f} hectares\")\n",
        "    print(f\"Maximum profit: Rs {max_profit:.2f}\")\n",
        "else:\n",
        "    print(\"No feasible solution found.\")"
      ],
      "metadata": {
        "colab": {
          "base_uri": "https://localhost:8080/"
        },
        "id": "8VS0656ZWgcl",
        "outputId": "504fb6c3-90e4-439c-8850-7762ea3aacac"
      },
      "execution_count": 23,
      "outputs": [
        {
          "output_type": "stream",
          "name": "stdout",
          "text": [
            "Optimal planting: Wheat = 97.89 hectares, Barley = 7.37 hectares\n",
            "Maximum profit: Rs 5778.95\n"
          ]
        }
      ]
    },
    {
      "cell_type": "code",
      "source": [],
      "metadata": {
        "id": "NxBB4TvvWlsf"
      },
      "execution_count": null,
      "outputs": []
    }
  ]
}